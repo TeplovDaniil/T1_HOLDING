{
 "cells": [
  {
   "cell_type": "code",
   "execution_count": 1,
   "metadata": {},
   "outputs": [],
   "source": [
    "import pandas as pd"
   ]
  },
  {
   "cell_type": "code",
   "execution_count": 2,
   "metadata": {},
   "outputs": [],
   "source": [
    "import pandas as pd\n",
    "import numpy as np\n",
    "from scipy.spatial.distance import cityblock, euclidean\n",
    "from sklearn.cluster import KMeans\n",
    "\n",
    "# Загрузка данных\n",
    "data = pd.read_csv(r'D:\\data science\\T1_hol\\data.csv')\n",
    "points = data[['x', 'y']].values"
   ]
  },
  {
   "cell_type": "code",
   "execution_count": 3,
   "metadata": {},
   "outputs": [],
   "source": [
    "def calculate_T(points, clinics, alpha=0.2, beta=0.3, penalty=0.122):\n",
    "    M = len(points)\n",
    "    k = len(clinics)\n",
    "    total_distance = 0\n",
    "\n",
    "    for point in points:\n",
    "        distances = [\n",
    "            alpha * cityblock(point, clinic) + beta * euclidean(point, clinic)\n",
    "            for clinic in clinics\n",
    "        ]\n",
    "        total_distance += min(distances)\n",
    "    \n",
    "    T = (total_distance / M) + k * penalty\n",
    "    return T"
   ]
  },
  {
   "cell_type": "code",
   "execution_count": 4,
   "metadata": {},
   "outputs": [],
   "source": [
    "def optimize_clinics(points, max_k=20, alpha=0.2, beta=0.3, penalty=0.122):\n",
    "    best_T = float('inf')\n",
    "    best_clinics = []\n",
    "    best_k = 0\n",
    "\n",
    "    for k in range(1, max_k + 1):\n",
    "        # Кластеризация с использованием KMeans\n",
    "        kmeans = KMeans(n_clusters=k, random_state=42, n_init=10).fit(points)\n",
    "        clinics = kmeans.cluster_centers_\n",
    "\n",
    "        # Оценка метрики T\n",
    "        T = calculate_T(points, clinics, alpha, beta, penalty)\n",
    "        \n",
    "        # Обновление лучшего результата\n",
    "        if T < best_T:\n",
    "            best_T = T\n",
    "            best_clinics = clinics\n",
    "            best_k = k\n",
    "    \n",
    "    return best_k, best_clinics, best_T"
   ]
  },
  {
   "cell_type": "code",
   "execution_count": 7,
   "metadata": {},
   "outputs": [],
   "source": [
    "def save_clinics(clinics, output_file='clinics.csv'):\n",
    "    with open(output_file, 'w') as f:\n",
    "        for clinic in clinics:\n",
    "            f.write(f\"{clinic[0]} {clinic[1]}\\n\")"
   ]
  },
  {
   "cell_type": "code",
   "execution_count": 8,
   "metadata": {},
   "outputs": [
    {
     "name": "stdout",
     "output_type": "stream",
     "text": [
      "Оптимальное количество клиник: 12\n",
      "Значение метрики T: 3.8779462604535193\n"
     ]
    }
   ],
   "source": [
    "if __name__ == \"__main__\":\n",
    "    # Загрузка данных\n",
    "    data = pd.read_csv('Data.csv')\n",
    "    points = data[['x', 'y']].values\n",
    "\n",
    "    # Оптимизация\n",
    "    best_k, best_clinics, best_T = optimize_clinics(points)\n",
    "\n",
    "    # Сохранение результата\n",
    "    save_clinics(best_clinics)\n",
    "\n",
    "    print(f\"Оптимальное количество клиник: {best_k}\")\n",
    "    print(f\"Значение метрики T: {best_T}\")"
   ]
  },
  {
   "cell_type": "code",
   "execution_count": 9,
   "metadata": {},
   "outputs": [
    {
     "name": "stdout",
     "output_type": "stream",
     "text": [
      "100\n"
     ]
    }
   ],
   "source": [
    "T = 3.8779462604535193\n",
    "score = max(0, min(100, 25 + 50 * (3.9892 - T) / (3.9892 - 3.9277)))\n",
    "print(score)"
   ]
  }
 ],
 "metadata": {
  "kernelspec": {
   "display_name": "base",
   "language": "python",
   "name": "python3"
  },
  "language_info": {
   "codemirror_mode": {
    "name": "ipython",
    "version": 3
   },
   "file_extension": ".py",
   "mimetype": "text/x-python",
   "name": "python",
   "nbconvert_exporter": "python",
   "pygments_lexer": "ipython3",
   "version": "3.12.7"
  }
 },
 "nbformat": 4,
 "nbformat_minor": 2
}
